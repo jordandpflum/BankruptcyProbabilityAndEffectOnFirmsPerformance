{
 "cells": [
  {
   "cell_type": "code",
   "execution_count": 72,
   "metadata": {},
   "outputs": [
    {
     "name": "stdout",
     "output_type": "stream",
     "text": [
      "Enter your WRDS username [DRNPRO]:nikoldy\n",
      "Enter your password:········\n",
      "WRDS recommends setting up a .pgpass file.\n",
      "You can find more info here:\n",
      "https://www.postgresql.org/docs/9.5/static/libpq-pgpass.html.\n",
      "Loading library list...\n",
      "Done\n"
     ]
    }
   ],
   "source": [
    "import pandas as pd\n",
    "import numpy as np\n",
    "import wrds\n",
    "import time\n",
    "\n",
    "db = wrds.Connection()"
   ]
  },
  {
   "cell_type": "code",
   "execution_count": 85,
   "metadata": {},
   "outputs": [
    {
     "data": {
      "text/plain": [
       "['aha',\n",
       " 'aha_sample',\n",
       " 'ahasamp',\n",
       " 'audit',\n",
       " 'audit_audit_comp',\n",
       " 'audit_corp_legal',\n",
       " 'bank',\n",
       " 'blab',\n",
       " 'block',\n",
       " 'boardex',\n",
       " 'boardex_na',\n",
       " 'boardex_trial',\n",
       " 'boardsmp',\n",
       " 'bvd',\n",
       " 'bvd_ama_large',\n",
       " 'bvd_ama_medium',\n",
       " 'bvd_ama_small',\n",
       " 'bvd_ama_verylarge',\n",
       " 'bvdsamp',\n",
       " 'calcbench_trial',\n",
       " 'calcbnch',\n",
       " 'cboe',\n",
       " 'centris',\n",
       " 'ciq',\n",
       " 'ciq_capstrct',\n",
       " 'ciq_capstrct_new',\n",
       " 'ciq_common',\n",
       " 'ciq_keydev',\n",
       " 'ciq_pplintel',\n",
       " 'ciqsamp',\n",
       " 'ciqsamp_common',\n",
       " 'ciqsamp_transcripts',\n",
       " 'cisdm',\n",
       " 'cisdmsmp',\n",
       " 'clrvt',\n",
       " 'clrvtsmp',\n",
       " 'comp',\n",
       " 'comp_bank',\n",
       " 'comp_bank_daily',\n",
       " 'comp_execucomp',\n",
       " 'comp_global',\n",
       " 'comp_global_daily',\n",
       " 'comp_na_daily_all_new',\n",
       " 'comp_segments_hist',\n",
       " 'comp_segments_hist_daily',\n",
       " 'compa',\n",
       " 'compb',\n",
       " 'compbd',\n",
       " 'compdcur',\n",
       " 'compg',\n",
       " 'compgd',\n",
       " 'comph',\n",
       " 'compm',\n",
       " 'compmcur',\n",
       " 'compnad',\n",
       " 'compsamp',\n",
       " 'compsamp_snapshot',\n",
       " 'compseg',\n",
       " 'compsegd',\n",
       " 'compsnap',\n",
       " 'comscore',\n",
       " 'contrib',\n",
       " 'contrib_char_returns',\n",
       " 'contrib_char_returns_new',\n",
       " 'contrib_general',\n",
       " 'contrib_general_new',\n",
       " 'contrib_intangible_value',\n",
       " 'contrib_kpss',\n",
       " 'crsp',\n",
       " 'crsp_a_ccm',\n",
       " 'crsp_a_indexes',\n",
       " 'crsp_a_stock',\n",
       " 'crsp_a_treasuries',\n",
       " 'crsp_q_mutualfunds',\n",
       " 'crspa',\n",
       " 'crspm',\n",
       " 'crspq',\n",
       " 'crspsamp',\n",
       " 'csmar',\n",
       " 'dealscan',\n",
       " 'djones',\n",
       " 'dmef',\n",
       " 'doe',\n",
       " 'emdb',\n",
       " 'etfg',\n",
       " 'etfg_samp',\n",
       " 'etfgsamp',\n",
       " 'eureka',\n",
       " 'eurekahedge_sample',\n",
       " 'evts',\n",
       " 'execcomp',\n",
       " 'factsamp_revere',\n",
       " 'factset',\n",
       " 'ff',\n",
       " 'fisd',\n",
       " 'fisdsamp',\n",
       " 'fjc_linking',\n",
       " 'fjc_litigation',\n",
       " 'frb',\n",
       " 'fssamp',\n",
       " 'ftse',\n",
       " 'ftsesamp',\n",
       " 'ginsight',\n",
       " 'gmi',\n",
       " 'govpx',\n",
       " 'govpxsmp',\n",
       " 'gsi',\n",
       " 'hbase_sample',\n",
       " 'hbsamp',\n",
       " 'hfr',\n",
       " 'hfrsamp',\n",
       " 'hfrsamp_hfrdb',\n",
       " 'ibes',\n",
       " 'ibescorp',\n",
       " 'ibeskpi',\n",
       " 'ifgr',\n",
       " 'ifgrsamp',\n",
       " 'ims',\n",
       " 'ims_obp_trial',\n",
       " 'imssamp',\n",
       " 'infogroupsamp_business',\n",
       " 'infogroupsamp_residential',\n",
       " 'iri',\n",
       " 'issm',\n",
       " 'kld',\n",
       " 'kld_histall',\n",
       " 'ktmine',\n",
       " 'ktmine_patents_samp',\n",
       " 'ktsamp',\n",
       " 'levin',\n",
       " 'lspd',\n",
       " 'lvnsamp',\n",
       " 'macrofin',\n",
       " 'macrofin_comm_trade',\n",
       " 'macrofin_comm_trade_new',\n",
       " 'markit',\n",
       " 'mfl',\n",
       " 'mrktsamp',\n",
       " 'mrktsamp_cds',\n",
       " 'mrktsamp_cdx',\n",
       " 'mrktsamp_msf',\n",
       " 'msfanly',\n",
       " 'msfinst',\n",
       " 'msrb',\n",
       " 'msrbsamp',\n",
       " 'nastraq',\n",
       " 'omtrial',\n",
       " 'optionm',\n",
       " 'optionmsamp_europe',\n",
       " 'optionmsamp_us',\n",
       " 'otc',\n",
       " 'otc_endofday',\n",
       " 'pacap',\n",
       " 'phlx',\n",
       " 'ppublica',\n",
       " 'ppubsamp',\n",
       " 'ppubsamp_d4d',\n",
       " 'ppubsamp_d4d_new',\n",
       " 'preqsamp_all_new',\n",
       " 'public',\n",
       " 'pwt',\n",
       " 'ravenpack_trial',\n",
       " 'rent',\n",
       " 'reprisk',\n",
       " 'reprisk_sample',\n",
       " 'repsamp',\n",
       " 'revere',\n",
       " 'risk',\n",
       " 'risk_directors',\n",
       " 'risk_governance',\n",
       " 'risksamp',\n",
       " 'rpna',\n",
       " 'rpnasamp',\n",
       " 'sdc',\n",
       " 'sdcsamp',\n",
       " 'secsamp',\n",
       " 'secsamp_all_new',\n",
       " 'snapsamp',\n",
       " 'snl',\n",
       " 'snlsamp',\n",
       " 'snlsamp_fig',\n",
       " 'sprat',\n",
       " 'sustain',\n",
       " 'sustsamp',\n",
       " 'taq',\n",
       " 'taqmsamp',\n",
       " 'taqmsec',\n",
       " 'taqsamp',\n",
       " 'tass',\n",
       " 'tfn',\n",
       " 'totalq',\n",
       " 'toyo',\n",
       " 'tr_13f',\n",
       " 'tr_dealscan',\n",
       " 'tr_ibes',\n",
       " 'tr_ibes_guidance',\n",
       " 'tr_mutualfunds',\n",
       " 'trace',\n",
       " 'trace_enhanced',\n",
       " 'trace_standard',\n",
       " 'trown',\n",
       " 'trsamp',\n",
       " 'trsamp_sdc_ma',\n",
       " 'trsamp_sdc_ni',\n",
       " 'trsdcgs',\n",
       " 'trws',\n",
       " 'twoiq',\n",
       " 'twoiq_samp',\n",
       " 'twoiqsmp',\n",
       " 'wcai',\n",
       " 'wqa',\n",
       " 'wrds_lib_internal',\n",
       " 'wrdsapps',\n",
       " 'wrdsapps_eushort',\n",
       " 'wrdsapps_eushort_new',\n",
       " 'wrdsapps_patents',\n",
       " 'wrdsapps_patents_new',\n",
       " 'wrdsrpts',\n",
       " 'wrdsrpts_rep_usage',\n",
       " 'wrdssec',\n",
       " 'wrdssec_common',\n",
       " 'wrdssec_insiders',\n",
       " 'wrdssec_midas',\n",
       " 'wrdssec_secsa',\n",
       " 'zacks',\n",
       " 'zacksamp']"
      ]
     },
     "execution_count": 85,
     "metadata": {},
     "output_type": "execute_result"
    }
   ],
   "source": [
    "db.list_libraries()\n",
    "#db.list_tables(library='crsp')\n",
    "#db.describe_table(library=\"comp\", table=\"fundq\").name.tolist()\n",
    "#db.describe_table(library=\"crsp\", table=\"msf\").name.tolist()"
   ]
  },
  {
   "cell_type": "markdown",
   "metadata": {},
   "source": [
    "# QUERIES"
   ]
  },
  {
   "cell_type": "markdown",
   "metadata": {},
   "source": [
    "####  QUERY + EXPORT COMPUSTAT QUARTERLY FUNDAMENTALS"
   ]
  },
  {
   "cell_type": "code",
   "execution_count": 73,
   "metadata": {},
   "outputs": [
    {
     "name": "stdout",
     "output_type": "stream",
     "text": [
      "Shape: (70501, 15)\n",
      "Elapsed time (minutes): 0.0841943860054016\n"
     ]
    }
   ],
   "source": [
    "start = time.time()\n",
    "\n",
    "comp_fundq = db.raw_sql(\"\"\"select gvkey, iid, datadate, datacqtr, fyearq, fqtr, fyr, tic, conm, \n",
    "                        exchg, atq, ltq, niq, ceqq, cheq\n",
    "                        from comp.fundq\n",
    "                        where datadate >='01/01/2019'\n",
    "                        and exchg between 11 and 20\n",
    "                        \"\"\", date_cols=['datadate','datacqtr'])\n",
    "\n",
    "print('Shape:',comp_fundq.shape)\n",
    "print('Elapsed time (minutes):',((time.time() - start)/60))\n",
    "comp_fundq.to_csv('data/comp_fundq.csv')"
   ]
  },
  {
   "cell_type": "markdown",
   "metadata": {},
   "source": [
    "####  QUERY + EXPORT CRSP MONTHLY STOCK FILE"
   ]
  },
  {
   "cell_type": "code",
   "execution_count": 74,
   "metadata": {
    "scrolled": true
   },
   "outputs": [
    {
     "name": "stdout",
     "output_type": "stream",
     "text": [
      "Shape: (47896, 9)\n",
      "Elapsed time (minutes): 0.062420364220937094\n"
     ]
    }
   ],
   "source": [
    "start = time.time()\n",
    "\n",
    "crsp_msf = db.raw_sql(\"\"\"select permno, hsiccd, date, prc, ret, shrout, cfacpr, cfacshr, retx\n",
    "                        from crsp.msf\n",
    "                        where date>='01/01/2019'\n",
    "                        and hsiccd not between 6000 and 6999\n",
    "                        and ret > -50\n",
    "                        \"\"\", date_cols=['date'])\n",
    "\n",
    "print('Shape:',crsp_msf.shape)\n",
    "crsp_msf.to_csv('data/crsp_msf.csv')\n",
    "print('Elapsed time (minutes):',((time.time() - start)/60))"
   ]
  },
  {
   "cell_type": "markdown",
   "metadata": {},
   "source": [
    "####  QUERY + EXPORT COMPHIST (CRSP/COMPUSTAT Merged - Company Header History)\n"
   ]
  },
  {
   "cell_type": "code",
   "execution_count": null,
   "metadata": {},
   "outputs": [],
   "source": [
    "#get comphist deletion data\n",
    "start = time.time()\n",
    "\n",
    "comphist = db.raw_sql(\"\"\"select gvkey, HCHGDT, HCHGENDDT, HDLDTE, HSIC, HGIND, HDLRSN\n",
    "                    from crsp.comphist\n",
    "                    where hsic not between 6000 and 7000\n",
    "                    and\n",
    "                 \"\"\", date_cols=['hdldte','hchgenddt'])\n",
    "\n",
    "print('Shape:',comphist.shape)\n",
    "comphist.to_csv('data/comphist.csv')\n",
    "print('Elapsed time (minutes):',((time.time() - start)/60))\n",
    "# http://www.crsp.org/products/documentation/master-header-and-header-history\n",
    "#HCHGDT\tComphist description effective date\n",
    "#HCHGENDDT\tComphist description last effective date\n",
    "#HDLDTE\tHistorical research company – deletion date\n",
    "#HFYRC\tHistorical fiscal year end month / current\n",
    "#HSIC\tHistorical SIC Code\n",
    "#HGIND\tHistorical GICS industries"
   ]
  },
  {
   "cell_type": "markdown",
   "metadata": {},
   "source": [
    "####  QUERY LINKING TABLE"
   ]
  },
  {
   "cell_type": "code",
   "execution_count": 40,
   "metadata": {},
   "outputs": [
    {
     "name": "stdout",
     "output_type": "stream",
     "text": [
      "Shape: (103457, 8)\n",
      "Elapsed time (seconds): 7.956339120864868\n"
     ]
    }
   ],
   "source": [
    "start = time.time()\n",
    "link_table = db.raw_sql(\"\"\"select *\n",
    "                        from crsp_a_ccm.ccmxpf_lnkhist \n",
    "                        \"\"\", date_cols=['linkenddt','linkdt'])\n",
    "\n",
    "link_table.gvkey=link_table.gvkey.astype(float)\n",
    "\n",
    "link_table.to_csv('data/link_table.csv')\n",
    "print('Shape:',link_table.shape)\n",
    "print('Elapsed time (seconds):',(time.time() - start))"
   ]
  },
  {
   "cell_type": "markdown",
   "metadata": {},
   "source": [
    "# READ IN DATA"
   ]
  },
  {
   "cell_type": "markdown",
   "metadata": {},
   "source": [
    "#### READ IN COMP_FUNDQ"
   ]
  },
  {
   "cell_type": "code",
   "execution_count": 82,
   "metadata": {
    "scrolled": true
   },
   "outputs": [
    {
     "name": "stdout",
     "output_type": "stream",
     "text": [
      "Shape: (70501, 15)\n",
      "Elapsed time (minutes): 0.008519419034322103\n"
     ]
    }
   ],
   "source": [
    "start = time.time()\n",
    "\n",
    "dtypes = {\n",
    "          'gvkey':float,  'iid':'str',  'datadate':'str',  'datacqtr': 'str',  'fyearq':'str',   'fqtr':'str',\n",
    "          'fyr':'str',    'tic':'str',  'conm':'str',      'atq':float,        'ltq':float,      'niq':float, \n",
    "          'ceqq':float,   'cheq':float\n",
    "          }\n",
    "\n",
    "parse_dates = ['datadate', 'datacqtr']\n",
    "\n",
    "cols = list(pd.read_csv(\"data/comp_fundq.csv\", nrows =1))\n",
    "\n",
    "comp_fundq = pd.read_csv('data/comp_fundq.csv',dtype=dtypes,parse_dates=parse_dates,\n",
    "                         usecols =[i for i in cols if i != 'Unnamed: 0'])\n",
    "\n",
    "print('Shape:',comp_fundq.shape)\n",
    "print('Elapsed time (minutes):',((time.time() - start)/60))"
   ]
  },
  {
   "cell_type": "markdown",
   "metadata": {},
   "source": [
    "#### READ IN CRSP_MSF"
   ]
  },
  {
   "cell_type": "code",
   "execution_count": 42,
   "metadata": {},
   "outputs": [
    {
     "name": "stdout",
     "output_type": "stream",
     "text": [
      "Shape: (47896, 9)\n",
      "Elapsed time (minutes): 0.003252116839090983\n"
     ]
    }
   ],
   "source": [
    "start = time.time()\n",
    "\n",
    "dtypes = {\n",
    "          'permno':float,  'hsiccd':float,    'date': 'str',     'prc':float,   'ret':float,\n",
    "          'shrout':float,  'cfacpr':float,    'cfacshr':float,   'retx':float\n",
    "          }\n",
    "\n",
    "parse_dates = ['date']\n",
    "\n",
    "cols = list(pd.read_csv(\"data/crsp_msf.csv\", nrows =1))\n",
    "\n",
    "crsp_msf = pd.read_csv('data/crsp_msf.csv',dtype=dtypes,parse_dates=parse_dates,\n",
    "                         usecols =[i for i in cols if i != 'Unnamed: 0'])\n",
    "\n",
    "print('Shape:',crsp_msf.shape)\n",
    "print('Elapsed time (minutes):',((time.time() - start)/60))"
   ]
  },
  {
   "cell_type": "markdown",
   "metadata": {},
   "source": [
    "####  READ IN COMPHIST"
   ]
  },
  {
   "cell_type": "code",
   "execution_count": 43,
   "metadata": {},
   "outputs": [
    {
     "name": "stdout",
     "output_type": "stream",
     "text": [
      "Shape: (260397, 6)\n",
      "Elapsed time (minutes): 0.009194529056549073\n"
     ]
    }
   ],
   "source": [
    "start = time.time()\n",
    "\n",
    "dtypes = {'gvkey':float, 'hchgdt':float, 'hchgenddt': 'str', 'hdldte':float, 'hgind':float,}\n",
    "\n",
    "parse_dates = ['hchgdt','hchgenddt','hdldte']\n",
    "\n",
    "cols = list(pd.read_csv(\"data/comphist.csv\", nrows =1))\n",
    "\n",
    "comphist = pd.read_csv('data/comphist.csv',dtype=dtypes,parse_dates=parse_dates,\n",
    "                         usecols =[i for i in cols if i != 'Unnamed: 0'])\n",
    "\n",
    "print('Shape:',comphist.shape)\n",
    "print('Elapsed time (minutes):',((time.time() - start)/60))"
   ]
  },
  {
   "cell_type": "markdown",
   "metadata": {},
   "source": [
    "#### READ IN LINK_TABLE"
   ]
  },
  {
   "cell_type": "code",
   "execution_count": 44,
   "metadata": {},
   "outputs": [
    {
     "name": "stdout",
     "output_type": "stream",
     "text": [
      "Shape: (103457, 8)\n",
      "Elapsed time (minutes): 0.011220868428548176\n"
     ]
    }
   ],
   "source": [
    "start = time.time()\n",
    "\n",
    "cols = list(pd.read_csv(\"data/link_table.csv\", nrows =1))\n",
    "\n",
    "link_table = pd.read_csv('data/link_table.csv',usecols =[i for i in cols if i != 'Unnamed: 0'])\n",
    "\n",
    "print('Shape:',link_table.shape)\n",
    "print('Elapsed time (minutes):',((time.time() - start)/60))"
   ]
  },
  {
   "cell_type": "markdown",
   "metadata": {},
   "source": [
    "# DATA"
   ]
  },
  {
   "cell_type": "code",
   "execution_count": 79,
   "metadata": {},
   "outputs": [
    {
     "data": {
      "text/plain": [
       "gvkey               float64\n",
       "hchgdt       datetime64[ns]\n",
       "hchgenddt    datetime64[ns]\n",
       "hdldte       datetime64[ns]\n",
       "hsic                float64\n",
       "hgind               float64\n",
       "dtype: object"
      ]
     },
     "execution_count": 79,
     "metadata": {},
     "output_type": "execute_result"
    }
   ],
   "source": [
    "comphist.dtypes"
   ]
  },
  {
   "cell_type": "code",
   "execution_count": 80,
   "metadata": {},
   "outputs": [
    {
     "data": {
      "text/plain": [
       "gvkey        float64\n",
       "linkprim      object\n",
       "liid          object\n",
       "linktype      object\n",
       "lpermno      float64\n",
       "lpermco      float64\n",
       "linkdt        object\n",
       "linkenddt     object\n",
       "dtype: object"
      ]
     },
     "execution_count": 80,
     "metadata": {},
     "output_type": "execute_result"
    }
   ],
   "source": [
    "link_table.dtypes"
   ]
  },
  {
   "cell_type": "code",
   "execution_count": 81,
   "metadata": {},
   "outputs": [
    {
     "data": {
      "text/plain": [
       "gvkey               object\n",
       "iid                 object\n",
       "datadate    datetime64[ns]\n",
       "datacqtr    datetime64[ns]\n",
       "fyearq             float64\n",
       "fqtr               float64\n",
       "fyr                float64\n",
       "tic                 object\n",
       "conm                object\n",
       "exchg              float64\n",
       "atq                float64\n",
       "ltq                float64\n",
       "niq                float64\n",
       "ceqq               float64\n",
       "cheq               float64\n",
       "dtype: object"
      ]
     },
     "execution_count": 81,
     "metadata": {},
     "output_type": "execute_result"
    }
   ],
   "source": [
    "comp_fundq.dtypes"
   ]
  },
  {
   "cell_type": "code",
   "execution_count": 77,
   "metadata": {},
   "outputs": [
    {
     "data": {
      "text/plain": [
       "(47896, 9)"
      ]
     },
     "execution_count": 77,
     "metadata": {},
     "output_type": "execute_result"
    }
   ],
   "source": [
    "crsp_msf.shape"
   ]
  },
  {
   "cell_type": "markdown",
   "metadata": {},
   "source": [
    "# MERGE DATA"
   ]
  },
  {
   "cell_type": "markdown",
   "metadata": {},
   "source": [
    "#### MERGE + EXPORT DATA"
   ]
  },
  {
   "cell_type": "code",
   "execution_count": 83,
   "metadata": {},
   "outputs": [
    {
     "name": "stdout",
     "output_type": "stream",
     "text": [
      "Shape: (4421869, 36)\n",
      "Elapsed time (minutes): 0.1329185684521993\n"
     ]
    }
   ],
   "source": [
    "start = time.time()\n",
    "\n",
    "df1 = pd.merge(comp_fundq, link_table, how='inner', on = \"gvkey\")\n",
    "df2 = pd.merge(df1, comphist, how='inner', on = \"gvkey\")\n",
    "df3 = pd.merge(df2, crsp_msf, how='inner', left_on = \"lpermno\", right_on='permno')\n",
    "\n",
    "print('Shape:',df3.shape)\n",
    "print('Elapsed time (minutes):',(time.time() - start)/60)"
   ]
  },
  {
   "cell_type": "code",
   "execution_count": 84,
   "metadata": {},
   "outputs": [
    {
     "data": {
      "text/html": [
       "<div>\n",
       "<style scoped>\n",
       "    .dataframe tbody tr th:only-of-type {\n",
       "        vertical-align: middle;\n",
       "    }\n",
       "\n",
       "    .dataframe tbody tr th {\n",
       "        vertical-align: top;\n",
       "    }\n",
       "\n",
       "    .dataframe thead th {\n",
       "        text-align: right;\n",
       "    }\n",
       "</style>\n",
       "<table border=\"1\" class=\"dataframe\">\n",
       "  <thead>\n",
       "    <tr style=\"text-align: right;\">\n",
       "      <th></th>\n",
       "      <th>gvkey</th>\n",
       "      <th>iid</th>\n",
       "      <th>datadate</th>\n",
       "      <th>datacqtr</th>\n",
       "      <th>fyearq</th>\n",
       "      <th>fqtr</th>\n",
       "      <th>fyr</th>\n",
       "      <th>tic</th>\n",
       "      <th>conm</th>\n",
       "      <th>exchg</th>\n",
       "      <th>...</th>\n",
       "      <th>hgind</th>\n",
       "      <th>permno</th>\n",
       "      <th>hsiccd</th>\n",
       "      <th>date</th>\n",
       "      <th>prc</th>\n",
       "      <th>ret</th>\n",
       "      <th>shrout</th>\n",
       "      <th>cfacpr</th>\n",
       "      <th>cfacshr</th>\n",
       "      <th>retx</th>\n",
       "    </tr>\n",
       "  </thead>\n",
       "  <tbody>\n",
       "    <tr>\n",
       "      <th>0</th>\n",
       "      <td>1410.0</td>\n",
       "      <td>01</td>\n",
       "      <td>2019-01-31</td>\n",
       "      <td>2018-10-01</td>\n",
       "      <td>2019.0</td>\n",
       "      <td>1.0</td>\n",
       "      <td>10.0</td>\n",
       "      <td>ABM</td>\n",
       "      <td>ABMINDUSTRIESINC</td>\n",
       "      <td>11.0</td>\n",
       "      <td>...</td>\n",
       "      <td>202010.0</td>\n",
       "      <td>47730.0</td>\n",
       "      <td>7349.0</td>\n",
       "      <td>2019-01-31</td>\n",
       "      <td>34.189999</td>\n",
       "      <td>0.070383</td>\n",
       "      <td>66029.0</td>\n",
       "      <td>1.0</td>\n",
       "      <td>1.0</td>\n",
       "      <td>0.064777</td>\n",
       "    </tr>\n",
       "    <tr>\n",
       "      <th>1</th>\n",
       "      <td>1410.0</td>\n",
       "      <td>01</td>\n",
       "      <td>2019-01-31</td>\n",
       "      <td>2018-10-01</td>\n",
       "      <td>2019.0</td>\n",
       "      <td>1.0</td>\n",
       "      <td>10.0</td>\n",
       "      <td>ABM</td>\n",
       "      <td>ABMINDUSTRIESINC</td>\n",
       "      <td>11.0</td>\n",
       "      <td>...</td>\n",
       "      <td>202010.0</td>\n",
       "      <td>47730.0</td>\n",
       "      <td>7349.0</td>\n",
       "      <td>2019-02-28</td>\n",
       "      <td>35.660000</td>\n",
       "      <td>0.042995</td>\n",
       "      <td>66210.0</td>\n",
       "      <td>1.0</td>\n",
       "      <td>1.0</td>\n",
       "      <td>0.042995</td>\n",
       "    </tr>\n",
       "    <tr>\n",
       "      <th>2</th>\n",
       "      <td>1410.0</td>\n",
       "      <td>01</td>\n",
       "      <td>2019-01-31</td>\n",
       "      <td>2018-10-01</td>\n",
       "      <td>2019.0</td>\n",
       "      <td>1.0</td>\n",
       "      <td>10.0</td>\n",
       "      <td>ABM</td>\n",
       "      <td>ABMINDUSTRIESINC</td>\n",
       "      <td>11.0</td>\n",
       "      <td>...</td>\n",
       "      <td>202010.0</td>\n",
       "      <td>47730.0</td>\n",
       "      <td>7349.0</td>\n",
       "      <td>2019-03-29</td>\n",
       "      <td>36.349998</td>\n",
       "      <td>0.019349</td>\n",
       "      <td>66239.0</td>\n",
       "      <td>1.0</td>\n",
       "      <td>1.0</td>\n",
       "      <td>0.019349</td>\n",
       "    </tr>\n",
       "    <tr>\n",
       "      <th>3</th>\n",
       "      <td>1410.0</td>\n",
       "      <td>01</td>\n",
       "      <td>2019-01-31</td>\n",
       "      <td>2018-10-01</td>\n",
       "      <td>2019.0</td>\n",
       "      <td>1.0</td>\n",
       "      <td>10.0</td>\n",
       "      <td>ABM</td>\n",
       "      <td>ABMINDUSTRIESINC</td>\n",
       "      <td>11.0</td>\n",
       "      <td>...</td>\n",
       "      <td>202010.0</td>\n",
       "      <td>47730.0</td>\n",
       "      <td>7349.0</td>\n",
       "      <td>2019-04-30</td>\n",
       "      <td>37.970001</td>\n",
       "      <td>0.049519</td>\n",
       "      <td>66239.0</td>\n",
       "      <td>1.0</td>\n",
       "      <td>1.0</td>\n",
       "      <td>0.044567</td>\n",
       "    </tr>\n",
       "    <tr>\n",
       "      <th>4</th>\n",
       "      <td>1410.0</td>\n",
       "      <td>01</td>\n",
       "      <td>2019-01-31</td>\n",
       "      <td>2018-10-01</td>\n",
       "      <td>2019.0</td>\n",
       "      <td>1.0</td>\n",
       "      <td>10.0</td>\n",
       "      <td>ABM</td>\n",
       "      <td>ABMINDUSTRIESINC</td>\n",
       "      <td>11.0</td>\n",
       "      <td>...</td>\n",
       "      <td>202010.0</td>\n",
       "      <td>47730.0</td>\n",
       "      <td>7349.0</td>\n",
       "      <td>2019-05-31</td>\n",
       "      <td>36.250000</td>\n",
       "      <td>-0.045299</td>\n",
       "      <td>66239.0</td>\n",
       "      <td>1.0</td>\n",
       "      <td>1.0</td>\n",
       "      <td>-0.045299</td>\n",
       "    </tr>\n",
       "    <tr>\n",
       "      <th>...</th>\n",
       "      <td>...</td>\n",
       "      <td>...</td>\n",
       "      <td>...</td>\n",
       "      <td>...</td>\n",
       "      <td>...</td>\n",
       "      <td>...</td>\n",
       "      <td>...</td>\n",
       "      <td>...</td>\n",
       "      <td>...</td>\n",
       "      <td>...</td>\n",
       "      <td>...</td>\n",
       "      <td>...</td>\n",
       "      <td>...</td>\n",
       "      <td>...</td>\n",
       "      <td>...</td>\n",
       "      <td>...</td>\n",
       "      <td>...</td>\n",
       "      <td>...</td>\n",
       "      <td>...</td>\n",
       "      <td>...</td>\n",
       "      <td>...</td>\n",
       "    </tr>\n",
       "    <tr>\n",
       "      <th>4421864</th>\n",
       "      <td>331856.0</td>\n",
       "      <td>01</td>\n",
       "      <td>2020-09-30</td>\n",
       "      <td>2020-07-01</td>\n",
       "      <td>2020.0</td>\n",
       "      <td>3.0</td>\n",
       "      <td>12.0</td>\n",
       "      <td>IMUX</td>\n",
       "      <td>IMMUNICINC</td>\n",
       "      <td>14.0</td>\n",
       "      <td>...</td>\n",
       "      <td>352010.0</td>\n",
       "      <td>14615.0</td>\n",
       "      <td>9999.0</td>\n",
       "      <td>2019-08-30</td>\n",
       "      <td>17.010000</td>\n",
       "      <td>0.245242</td>\n",
       "      <td>10093.0</td>\n",
       "      <td>1.0</td>\n",
       "      <td>1.0</td>\n",
       "      <td>0.245242</td>\n",
       "    </tr>\n",
       "    <tr>\n",
       "      <th>4421865</th>\n",
       "      <td>331856.0</td>\n",
       "      <td>01</td>\n",
       "      <td>2020-09-30</td>\n",
       "      <td>2020-07-01</td>\n",
       "      <td>2020.0</td>\n",
       "      <td>3.0</td>\n",
       "      <td>12.0</td>\n",
       "      <td>IMUX</td>\n",
       "      <td>IMMUNICINC</td>\n",
       "      <td>14.0</td>\n",
       "      <td>...</td>\n",
       "      <td>352010.0</td>\n",
       "      <td>14615.0</td>\n",
       "      <td>9999.0</td>\n",
       "      <td>2019-09-30</td>\n",
       "      <td>10.000000</td>\n",
       "      <td>-0.412111</td>\n",
       "      <td>10071.0</td>\n",
       "      <td>1.0</td>\n",
       "      <td>1.0</td>\n",
       "      <td>-0.412111</td>\n",
       "    </tr>\n",
       "    <tr>\n",
       "      <th>4421866</th>\n",
       "      <td>331856.0</td>\n",
       "      <td>01</td>\n",
       "      <td>2020-09-30</td>\n",
       "      <td>2020-07-01</td>\n",
       "      <td>2020.0</td>\n",
       "      <td>3.0</td>\n",
       "      <td>12.0</td>\n",
       "      <td>IMUX</td>\n",
       "      <td>IMMUNICINC</td>\n",
       "      <td>14.0</td>\n",
       "      <td>...</td>\n",
       "      <td>352010.0</td>\n",
       "      <td>14615.0</td>\n",
       "      <td>9999.0</td>\n",
       "      <td>2019-10-31</td>\n",
       "      <td>8.460000</td>\n",
       "      <td>-0.154000</td>\n",
       "      <td>10071.0</td>\n",
       "      <td>1.0</td>\n",
       "      <td>1.0</td>\n",
       "      <td>-0.154000</td>\n",
       "    </tr>\n",
       "    <tr>\n",
       "      <th>4421867</th>\n",
       "      <td>331856.0</td>\n",
       "      <td>01</td>\n",
       "      <td>2020-09-30</td>\n",
       "      <td>2020-07-01</td>\n",
       "      <td>2020.0</td>\n",
       "      <td>3.0</td>\n",
       "      <td>12.0</td>\n",
       "      <td>IMUX</td>\n",
       "      <td>IMMUNICINC</td>\n",
       "      <td>14.0</td>\n",
       "      <td>...</td>\n",
       "      <td>352010.0</td>\n",
       "      <td>14615.0</td>\n",
       "      <td>9999.0</td>\n",
       "      <td>2019-11-29</td>\n",
       "      <td>7.030000</td>\n",
       "      <td>-0.169031</td>\n",
       "      <td>10117.0</td>\n",
       "      <td>1.0</td>\n",
       "      <td>1.0</td>\n",
       "      <td>-0.169031</td>\n",
       "    </tr>\n",
       "    <tr>\n",
       "      <th>4421868</th>\n",
       "      <td>331856.0</td>\n",
       "      <td>01</td>\n",
       "      <td>2020-09-30</td>\n",
       "      <td>2020-07-01</td>\n",
       "      <td>2020.0</td>\n",
       "      <td>3.0</td>\n",
       "      <td>12.0</td>\n",
       "      <td>IMUX</td>\n",
       "      <td>IMMUNICINC</td>\n",
       "      <td>14.0</td>\n",
       "      <td>...</td>\n",
       "      <td>352010.0</td>\n",
       "      <td>14615.0</td>\n",
       "      <td>9999.0</td>\n",
       "      <td>2019-12-31</td>\n",
       "      <td>9.700000</td>\n",
       "      <td>0.379801</td>\n",
       "      <td>10117.0</td>\n",
       "      <td>1.0</td>\n",
       "      <td>1.0</td>\n",
       "      <td>0.379801</td>\n",
       "    </tr>\n",
       "  </tbody>\n",
       "</table>\n",
       "<p>4421869 rows × 36 columns</p>\n",
       "</div>"
      ],
      "text/plain": [
       "            gvkey iid   datadate   datacqtr  fyearq fqtr   fyr   tic  \\\n",
       "0          1410.0  01 2019-01-31 2018-10-01  2019.0  1.0  10.0   ABM   \n",
       "1          1410.0  01 2019-01-31 2018-10-01  2019.0  1.0  10.0   ABM   \n",
       "2          1410.0  01 2019-01-31 2018-10-01  2019.0  1.0  10.0   ABM   \n",
       "3          1410.0  01 2019-01-31 2018-10-01  2019.0  1.0  10.0   ABM   \n",
       "4          1410.0  01 2019-01-31 2018-10-01  2019.0  1.0  10.0   ABM   \n",
       "...           ...  ..        ...        ...     ...  ...   ...   ...   \n",
       "4421864  331856.0  01 2020-09-30 2020-07-01  2020.0  3.0  12.0  IMUX   \n",
       "4421865  331856.0  01 2020-09-30 2020-07-01  2020.0  3.0  12.0  IMUX   \n",
       "4421866  331856.0  01 2020-09-30 2020-07-01  2020.0  3.0  12.0  IMUX   \n",
       "4421867  331856.0  01 2020-09-30 2020-07-01  2020.0  3.0  12.0  IMUX   \n",
       "4421868  331856.0  01 2020-09-30 2020-07-01  2020.0  3.0  12.0  IMUX   \n",
       "\n",
       "                     conm  exchg  ...     hgind   permno  hsiccd       date  \\\n",
       "0        ABMINDUSTRIESINC   11.0  ...  202010.0  47730.0  7349.0 2019-01-31   \n",
       "1        ABMINDUSTRIESINC   11.0  ...  202010.0  47730.0  7349.0 2019-02-28   \n",
       "2        ABMINDUSTRIESINC   11.0  ...  202010.0  47730.0  7349.0 2019-03-29   \n",
       "3        ABMINDUSTRIESINC   11.0  ...  202010.0  47730.0  7349.0 2019-04-30   \n",
       "4        ABMINDUSTRIESINC   11.0  ...  202010.0  47730.0  7349.0 2019-05-31   \n",
       "...                   ...    ...  ...       ...      ...     ...        ...   \n",
       "4421864        IMMUNICINC   14.0  ...  352010.0  14615.0  9999.0 2019-08-30   \n",
       "4421865        IMMUNICINC   14.0  ...  352010.0  14615.0  9999.0 2019-09-30   \n",
       "4421866        IMMUNICINC   14.0  ...  352010.0  14615.0  9999.0 2019-10-31   \n",
       "4421867        IMMUNICINC   14.0  ...  352010.0  14615.0  9999.0 2019-11-29   \n",
       "4421868        IMMUNICINC   14.0  ...  352010.0  14615.0  9999.0 2019-12-31   \n",
       "\n",
       "               prc       ret   shrout cfacpr  cfacshr      retx  \n",
       "0        34.189999  0.070383  66029.0    1.0      1.0  0.064777  \n",
       "1        35.660000  0.042995  66210.0    1.0      1.0  0.042995  \n",
       "2        36.349998  0.019349  66239.0    1.0      1.0  0.019349  \n",
       "3        37.970001  0.049519  66239.0    1.0      1.0  0.044567  \n",
       "4        36.250000 -0.045299  66239.0    1.0      1.0 -0.045299  \n",
       "...            ...       ...      ...    ...      ...       ...  \n",
       "4421864  17.010000  0.245242  10093.0    1.0      1.0  0.245242  \n",
       "4421865  10.000000 -0.412111  10071.0    1.0      1.0 -0.412111  \n",
       "4421866   8.460000 -0.154000  10071.0    1.0      1.0 -0.154000  \n",
       "4421867   7.030000 -0.169031  10117.0    1.0      1.0 -0.169031  \n",
       "4421868   9.700000  0.379801  10117.0    1.0      1.0  0.379801  \n",
       "\n",
       "[4421869 rows x 36 columns]"
      ]
     },
     "execution_count": 84,
     "metadata": {},
     "output_type": "execute_result"
    }
   ],
   "source": [
    "df3"
   ]
  },
  {
   "cell_type": "code",
   "execution_count": 49,
   "metadata": {},
   "outputs": [
    {
     "name": "stdout",
     "output_type": "stream",
     "text": [
      "Elapsed time (minutes): 4.1635857661565145\n"
     ]
    }
   ],
   "source": [
    "# caution takes a while\n",
    "start = time.time()\n",
    "\n",
    "df3.to_csv('data/merged_data.csv')\n",
    "\n",
    "print('Elapsed time (minutes):',(time.time() - start)/60)"
   ]
  },
  {
   "cell_type": "markdown",
   "metadata": {},
   "source": [
    "#### READ IN MERGED_DATA"
   ]
  },
  {
   "cell_type": "code",
   "execution_count": 50,
   "metadata": {},
   "outputs": [
    {
     "ename": "KeyboardInterrupt",
     "evalue": "",
     "output_type": "error",
     "traceback": [
      "\u001b[0;31m---------------------------------------------------------------------------\u001b[0m",
      "\u001b[0;31mKeyboardInterrupt\u001b[0m                         Traceback (most recent call last)",
      "\u001b[0;32m<ipython-input-50-0c2e8e60f566>\u001b[0m in \u001b[0;36m<module>\u001b[0;34m\u001b[0m\n\u001b[1;32m      2\u001b[0m \u001b[0;34m\u001b[0m\u001b[0m\n\u001b[1;32m      3\u001b[0m \u001b[0mcols\u001b[0m \u001b[0;34m=\u001b[0m \u001b[0mlist\u001b[0m\u001b[0;34m(\u001b[0m\u001b[0mpd\u001b[0m\u001b[0;34m.\u001b[0m\u001b[0mread_csv\u001b[0m\u001b[0;34m(\u001b[0m\u001b[0;34m\"data/merged_data.csv\"\u001b[0m\u001b[0;34m,\u001b[0m \u001b[0mnrows\u001b[0m \u001b[0;34m=\u001b[0m\u001b[0;36m1\u001b[0m\u001b[0;34m)\u001b[0m\u001b[0;34m)\u001b[0m\u001b[0;34m\u001b[0m\u001b[0;34m\u001b[0m\u001b[0m\n\u001b[0;32m----> 4\u001b[0;31m \u001b[0mmerged_data\u001b[0m \u001b[0;34m=\u001b[0m \u001b[0mpd\u001b[0m\u001b[0;34m.\u001b[0m\u001b[0mread_csv\u001b[0m\u001b[0;34m(\u001b[0m\u001b[0;34m'data/merged_data.csv'\u001b[0m\u001b[0;34m,\u001b[0m\u001b[0musecols\u001b[0m \u001b[0;34m=\u001b[0m\u001b[0;34m[\u001b[0m\u001b[0mi\u001b[0m \u001b[0;32mfor\u001b[0m \u001b[0mi\u001b[0m \u001b[0;32min\u001b[0m \u001b[0mcols\u001b[0m \u001b[0;32mif\u001b[0m \u001b[0mi\u001b[0m \u001b[0;34m!=\u001b[0m \u001b[0;34m'Unnamed: 0'\u001b[0m\u001b[0;34m]\u001b[0m\u001b[0;34m)\u001b[0m\u001b[0;34m\u001b[0m\u001b[0;34m\u001b[0m\u001b[0m\n\u001b[0m\u001b[1;32m      5\u001b[0m \u001b[0mmerged_data\u001b[0m\u001b[0;34m.\u001b[0m\u001b[0mdtypes\u001b[0m\u001b[0;34m\u001b[0m\u001b[0;34m\u001b[0m\u001b[0m\n\u001b[1;32m      6\u001b[0m \u001b[0;34m\u001b[0m\u001b[0m\n",
      "\u001b[0;32m/Applications/anaconda3/lib/python3.7/site-packages/pandas/io/parsers.py\u001b[0m in \u001b[0;36mparser_f\u001b[0;34m(filepath_or_buffer, sep, delimiter, header, names, index_col, usecols, squeeze, prefix, mangle_dupe_cols, dtype, engine, converters, true_values, false_values, skipinitialspace, skiprows, skipfooter, nrows, na_values, keep_default_na, na_filter, verbose, skip_blank_lines, parse_dates, infer_datetime_format, keep_date_col, date_parser, dayfirst, cache_dates, iterator, chunksize, compression, thousands, decimal, lineterminator, quotechar, quoting, doublequote, escapechar, comment, encoding, dialect, error_bad_lines, warn_bad_lines, delim_whitespace, low_memory, memory_map, float_precision)\u001b[0m\n\u001b[1;32m    674\u001b[0m         )\n\u001b[1;32m    675\u001b[0m \u001b[0;34m\u001b[0m\u001b[0m\n\u001b[0;32m--> 676\u001b[0;31m         \u001b[0;32mreturn\u001b[0m \u001b[0m_read\u001b[0m\u001b[0;34m(\u001b[0m\u001b[0mfilepath_or_buffer\u001b[0m\u001b[0;34m,\u001b[0m \u001b[0mkwds\u001b[0m\u001b[0;34m)\u001b[0m\u001b[0;34m\u001b[0m\u001b[0;34m\u001b[0m\u001b[0m\n\u001b[0m\u001b[1;32m    677\u001b[0m \u001b[0;34m\u001b[0m\u001b[0m\n\u001b[1;32m    678\u001b[0m     \u001b[0mparser_f\u001b[0m\u001b[0;34m.\u001b[0m\u001b[0m__name__\u001b[0m \u001b[0;34m=\u001b[0m \u001b[0mname\u001b[0m\u001b[0;34m\u001b[0m\u001b[0;34m\u001b[0m\u001b[0m\n",
      "\u001b[0;32m/Applications/anaconda3/lib/python3.7/site-packages/pandas/io/parsers.py\u001b[0m in \u001b[0;36m_read\u001b[0;34m(filepath_or_buffer, kwds)\u001b[0m\n\u001b[1;32m    452\u001b[0m \u001b[0;34m\u001b[0m\u001b[0m\n\u001b[1;32m    453\u001b[0m     \u001b[0;32mtry\u001b[0m\u001b[0;34m:\u001b[0m\u001b[0;34m\u001b[0m\u001b[0;34m\u001b[0m\u001b[0m\n\u001b[0;32m--> 454\u001b[0;31m         \u001b[0mdata\u001b[0m \u001b[0;34m=\u001b[0m \u001b[0mparser\u001b[0m\u001b[0;34m.\u001b[0m\u001b[0mread\u001b[0m\u001b[0;34m(\u001b[0m\u001b[0mnrows\u001b[0m\u001b[0;34m)\u001b[0m\u001b[0;34m\u001b[0m\u001b[0;34m\u001b[0m\u001b[0m\n\u001b[0m\u001b[1;32m    455\u001b[0m     \u001b[0;32mfinally\u001b[0m\u001b[0;34m:\u001b[0m\u001b[0;34m\u001b[0m\u001b[0;34m\u001b[0m\u001b[0m\n\u001b[1;32m    456\u001b[0m         \u001b[0mparser\u001b[0m\u001b[0;34m.\u001b[0m\u001b[0mclose\u001b[0m\u001b[0;34m(\u001b[0m\u001b[0;34m)\u001b[0m\u001b[0;34m\u001b[0m\u001b[0;34m\u001b[0m\u001b[0m\n",
      "\u001b[0;32m/Applications/anaconda3/lib/python3.7/site-packages/pandas/io/parsers.py\u001b[0m in \u001b[0;36mread\u001b[0;34m(self, nrows)\u001b[0m\n\u001b[1;32m   1131\u001b[0m     \u001b[0;32mdef\u001b[0m \u001b[0mread\u001b[0m\u001b[0;34m(\u001b[0m\u001b[0mself\u001b[0m\u001b[0;34m,\u001b[0m \u001b[0mnrows\u001b[0m\u001b[0;34m=\u001b[0m\u001b[0;32mNone\u001b[0m\u001b[0;34m)\u001b[0m\u001b[0;34m:\u001b[0m\u001b[0;34m\u001b[0m\u001b[0;34m\u001b[0m\u001b[0m\n\u001b[1;32m   1132\u001b[0m         \u001b[0mnrows\u001b[0m \u001b[0;34m=\u001b[0m \u001b[0m_validate_integer\u001b[0m\u001b[0;34m(\u001b[0m\u001b[0;34m\"nrows\"\u001b[0m\u001b[0;34m,\u001b[0m \u001b[0mnrows\u001b[0m\u001b[0;34m)\u001b[0m\u001b[0;34m\u001b[0m\u001b[0;34m\u001b[0m\u001b[0m\n\u001b[0;32m-> 1133\u001b[0;31m         \u001b[0mret\u001b[0m \u001b[0;34m=\u001b[0m \u001b[0mself\u001b[0m\u001b[0;34m.\u001b[0m\u001b[0m_engine\u001b[0m\u001b[0;34m.\u001b[0m\u001b[0mread\u001b[0m\u001b[0;34m(\u001b[0m\u001b[0mnrows\u001b[0m\u001b[0;34m)\u001b[0m\u001b[0;34m\u001b[0m\u001b[0;34m\u001b[0m\u001b[0m\n\u001b[0m\u001b[1;32m   1134\u001b[0m \u001b[0;34m\u001b[0m\u001b[0m\n\u001b[1;32m   1135\u001b[0m         \u001b[0;31m# May alter columns / col_dict\u001b[0m\u001b[0;34m\u001b[0m\u001b[0;34m\u001b[0m\u001b[0;34m\u001b[0m\u001b[0m\n",
      "\u001b[0;32m/Applications/anaconda3/lib/python3.7/site-packages/pandas/io/parsers.py\u001b[0m in \u001b[0;36mread\u001b[0;34m(self, nrows)\u001b[0m\n\u001b[1;32m   2035\u001b[0m     \u001b[0;32mdef\u001b[0m \u001b[0mread\u001b[0m\u001b[0;34m(\u001b[0m\u001b[0mself\u001b[0m\u001b[0;34m,\u001b[0m \u001b[0mnrows\u001b[0m\u001b[0;34m=\u001b[0m\u001b[0;32mNone\u001b[0m\u001b[0;34m)\u001b[0m\u001b[0;34m:\u001b[0m\u001b[0;34m\u001b[0m\u001b[0;34m\u001b[0m\u001b[0m\n\u001b[1;32m   2036\u001b[0m         \u001b[0;32mtry\u001b[0m\u001b[0;34m:\u001b[0m\u001b[0;34m\u001b[0m\u001b[0;34m\u001b[0m\u001b[0m\n\u001b[0;32m-> 2037\u001b[0;31m             \u001b[0mdata\u001b[0m \u001b[0;34m=\u001b[0m \u001b[0mself\u001b[0m\u001b[0;34m.\u001b[0m\u001b[0m_reader\u001b[0m\u001b[0;34m.\u001b[0m\u001b[0mread\u001b[0m\u001b[0;34m(\u001b[0m\u001b[0mnrows\u001b[0m\u001b[0;34m)\u001b[0m\u001b[0;34m\u001b[0m\u001b[0;34m\u001b[0m\u001b[0m\n\u001b[0m\u001b[1;32m   2038\u001b[0m         \u001b[0;32mexcept\u001b[0m \u001b[0mStopIteration\u001b[0m\u001b[0;34m:\u001b[0m\u001b[0;34m\u001b[0m\u001b[0;34m\u001b[0m\u001b[0m\n\u001b[1;32m   2039\u001b[0m             \u001b[0;32mif\u001b[0m \u001b[0mself\u001b[0m\u001b[0;34m.\u001b[0m\u001b[0m_first_chunk\u001b[0m\u001b[0;34m:\u001b[0m\u001b[0;34m\u001b[0m\u001b[0;34m\u001b[0m\u001b[0m\n",
      "\u001b[0;32mpandas/_libs/parsers.pyx\u001b[0m in \u001b[0;36mpandas._libs.parsers.TextReader.read\u001b[0;34m()\u001b[0m\n",
      "\u001b[0;32mpandas/_libs/parsers.pyx\u001b[0m in \u001b[0;36mpandas._libs.parsers.TextReader._read_low_memory\u001b[0;34m()\u001b[0m\n",
      "\u001b[0;32mpandas/_libs/parsers.pyx\u001b[0m in \u001b[0;36mpandas._libs.parsers._concatenate_chunks\u001b[0;34m()\u001b[0m\n",
      "\u001b[0;32m/Applications/anaconda3/lib/python3.7/site-packages/pandas/core/dtypes/common.py\u001b[0m in \u001b[0;36mis_categorical_dtype\u001b[0;34m(arr_or_dtype)\u001b[0m\n\u001b[1;32m    540\u001b[0m \u001b[0;34m\u001b[0m\u001b[0m\n\u001b[1;32m    541\u001b[0m \u001b[0;34m\u001b[0m\u001b[0m\n\u001b[0;32m--> 542\u001b[0;31m \u001b[0;32mdef\u001b[0m \u001b[0mis_categorical_dtype\u001b[0m\u001b[0;34m(\u001b[0m\u001b[0marr_or_dtype\u001b[0m\u001b[0;34m)\u001b[0m \u001b[0;34m->\u001b[0m \u001b[0mbool\u001b[0m\u001b[0;34m:\u001b[0m\u001b[0;34m\u001b[0m\u001b[0;34m\u001b[0m\u001b[0m\n\u001b[0m\u001b[1;32m    543\u001b[0m     \"\"\"\n\u001b[1;32m    544\u001b[0m     \u001b[0mCheck\u001b[0m \u001b[0mwhether\u001b[0m \u001b[0man\u001b[0m \u001b[0marray\u001b[0m\u001b[0;34m-\u001b[0m\u001b[0mlike\u001b[0m \u001b[0;32mor\u001b[0m \u001b[0mdtype\u001b[0m \u001b[0;32mis\u001b[0m \u001b[0mof\u001b[0m \u001b[0mthe\u001b[0m \u001b[0mCategorical\u001b[0m \u001b[0mdtype\u001b[0m\u001b[0;34m.\u001b[0m\u001b[0;34m\u001b[0m\u001b[0;34m\u001b[0m\u001b[0m\n",
      "\u001b[0;31mKeyboardInterrupt\u001b[0m: "
     ]
    }
   ],
   "source": [
    "start = time.time()\n",
    "\n",
    "cols = list(pd.read_csv(\"data/merged_data.csv\", nrows =1))\n",
    "merged_data = pd.read_csv('data/merged_data.csv',usecols =[i for i in cols if i != 'Unnamed: 0'])\n",
    "merged_data.dtypes\n",
    "\n",
    "print('Elapsed time (minutes):',(time.time() - start)/60)"
   ]
  },
  {
   "cell_type": "code",
   "execution_count": null,
   "metadata": {},
   "outputs": [],
   "source": []
  }
 ],
 "metadata": {
  "kernelspec": {
   "display_name": "Python 3",
   "language": "python",
   "name": "python3"
  },
  "language_info": {
   "codemirror_mode": {
    "name": "ipython",
    "version": 3
   },
   "file_extension": ".py",
   "mimetype": "text/x-python",
   "name": "python",
   "nbconvert_exporter": "python",
   "pygments_lexer": "ipython3",
   "version": "3.7.6"
  }
 },
 "nbformat": 4,
 "nbformat_minor": 4
}
