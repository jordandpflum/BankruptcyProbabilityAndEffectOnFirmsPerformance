{
 "cells": [
  {
   "cell_type": "code",
   "execution_count": 1,
   "metadata": {},
   "outputs": [
    {
     "name": "stdout",
     "output_type": "stream",
     "text": [
      "Enter your WRDS username [DRNPRO]:nikoldy\n",
      "Enter your password:········\n",
      "WRDS recommends setting up a .pgpass file.\n",
      "You can find more info here:\n",
      "https://www.postgresql.org/docs/9.5/static/libpq-pgpass.html.\n",
      "Loading library list...\n",
      "Done\n"
     ]
    }
   ],
   "source": [
    "import pandas as pd\n",
    "import numpy as np\n",
    "import wrds\n",
    "import time\n",
    "\n",
    "db = wrds.Connection()"
   ]
  },
  {
   "cell_type": "code",
   "execution_count": 2,
   "metadata": {},
   "outputs": [],
   "source": [
    "#db.list_libraries()\n",
    "#db.list_tables(library='crsp')\n",
    "#db.describe_table(library=\"comp\", table=\"fundq\").name.tolist()\n",
    "#db.describe_table(library=\"crsp\", table=\"comphist\").name.tolist()"
   ]
  },
  {
   "cell_type": "markdown",
   "metadata": {},
   "source": [
    "# QUERIES"
   ]
  },
  {
   "cell_type": "markdown",
   "metadata": {},
   "source": [
    "####  QUERY + EXPORT COMPUSTAT QUARTERLY FUNDAMENTALS"
   ]
  },
  {
   "cell_type": "code",
   "execution_count": 3,
   "metadata": {},
   "outputs": [
    {
     "name": "stdout",
     "output_type": "stream",
     "text": [
      "Shape: (80089, 14)\n",
      "Elapsed time (minutes): 0.033609445889790854\n"
     ]
    }
   ],
   "source": [
    "start = time.time()\n",
    "\n",
    "comp_fundq = db.raw_sql(\"\"\"select gvkey, iid, datadate, datacqtr, fyearq, fqtr, fyr, tic, conm, \n",
    "                        atq, ltq, niq, ceqq, cheq\n",
    "                        from comp.fundq\n",
    "                        where datadate >='01/01/2019'\n",
    "                        \"\"\", date_cols=['datadate','datacqtr'])\n",
    "\n",
    "print('Shape:',comp_fundq.shape)\n",
    "print('Elapsed time (minutes):',((time.time() - start)/60))\n",
    "comp_fundq.to_csv('data/comp_fundq.csv')"
   ]
  },
  {
   "cell_type": "markdown",
   "metadata": {},
   "source": [
    "####  QUERY + EXPORT CRSP MONTHLY STOCK FILE"
   ]
  },
  {
   "cell_type": "code",
   "execution_count": 4,
   "metadata": {
    "scrolled": true
   },
   "outputs": [
    {
     "name": "stdout",
     "output_type": "stream",
     "text": [
      "Shape: (84437, 9)\n",
      "Elapsed time (minutes): 0.05665660301844279\n"
     ]
    }
   ],
   "source": [
    "start = time.time()\n",
    "\n",
    "crsp_msf = db.raw_sql(\"\"\"select permno, hsiccd, date, prc, ret, shrout, cfacpr, cfacshr, retx\n",
    "                        from crsp.dsf\n",
    "                        where date>='12/01/2019'\n",
    "                        and hsiccd not between 6000 and 7000\n",
    "                        \"\"\", date_cols=['date'])\n",
    "\n",
    "print('Shape:',crsp_msf.shape)\n",
    "crsp_msf.to_csv('data/crsp_msf.csv')\n",
    "print('Elapsed time (minutes):',((time.time() - start)/60))"
   ]
  },
  {
   "cell_type": "markdown",
   "metadata": {},
   "source": [
    "####  QUERY + EXPORT COMPHIST (CRSP/COMPUSTAT Merged - Company Header History)\n"
   ]
  },
  {
   "cell_type": "code",
   "execution_count": 5,
   "metadata": {},
   "outputs": [
    {
     "name": "stdout",
     "output_type": "stream",
     "text": [
      "Shape: (260397, 6)\n",
      "Elapsed time (minutes): 0.12371431589126587\n"
     ]
    }
   ],
   "source": [
    "#get comphist deletion data\n",
    "start = time.time()\n",
    "\n",
    "comphist = db.raw_sql(\"\"\"select gvkey, HCHGDT, HCHGENDDT, HDLDTE, HSIC, HGIND\n",
    "                    from crsp.comphist\n",
    "                    where hsic not between 6000 and 7000\n",
    "                 \"\"\", date_cols=['hdldte','hchgenddt'])\n",
    "\n",
    "print('Shape:',comphist.shape)\n",
    "comphist.to_csv('data/comphist.csv')\n",
    "print('Elapsed time (minutes):',((time.time() - start)/60))\n",
    "# http://www.crsp.org/products/documentation/master-header-and-header-history\n",
    "#HCHGDT\tComphist description effective date\n",
    "#HCHGENDDT\tComphist description last effective date\n",
    "#HDLDTE\tHistorical research company – deletion date\n",
    "#HFYRC\tHistorical fiscal year end month / current\n",
    "#HSIC\tHistorical SIC Code\n",
    "#HGIND\tHistorical GICS industries"
   ]
  },
  {
   "cell_type": "markdown",
   "metadata": {},
   "source": [
    "####  QUERY LINKING TABLE"
   ]
  },
  {
   "cell_type": "code",
   "execution_count": 6,
   "metadata": {},
   "outputs": [
    {
     "name": "stdout",
     "output_type": "stream",
     "text": [
      "Shape: (103457, 8)\n",
      "Elapsed time (seconds): 3.1941397190093994\n"
     ]
    }
   ],
   "source": [
    "start = time.time()\n",
    "link_table = db.raw_sql(\"\"\"select *\n",
    "                        from crsp_a_ccm.ccmxpf_lnkhist \n",
    "                        \"\"\", date_cols=['linkenddt','linkdt'])\n",
    "\n",
    "link_table.gvkey=link_table.gvkey.astype(float)\n",
    "\n",
    "link_table.to_csv('data/link_table.csv')\n",
    "print('Shape:',link_table.shape)\n",
    "print('Elapsed time (seconds):',(time.time() - start))"
   ]
  },
  {
   "cell_type": "markdown",
   "metadata": {},
   "source": [
    "# READ IN DATA"
   ]
  },
  {
   "cell_type": "markdown",
   "metadata": {},
   "source": [
    "#### READ IN COMP_FUNDQ"
   ]
  },
  {
   "cell_type": "code",
   "execution_count": 7,
   "metadata": {
    "scrolled": true
   },
   "outputs": [
    {
     "name": "stdout",
     "output_type": "stream",
     "text": [
      "Shape: (80089, 14)\n",
      "Elapsed time (minutes): 0.003978848457336426\n"
     ]
    }
   ],
   "source": [
    "start = time.time()\n",
    "\n",
    "dtypes = {\n",
    "          'gvkey':float,  'iid':'str',  'datadate':'str',  'datacqtr': 'str',  'fyearq':'str',   'fqtr':'str',\n",
    "          'fyr':'str',    'tic':'str',  'conm':'str',      'atq':float,        'ltq':float,      'niq':float, \n",
    "          'ceqq':float,   'cheq':float\n",
    "          }\n",
    "\n",
    "parse_dates = ['datadate', 'datacqtr']\n",
    "\n",
    "cols = list(pd.read_csv(\"data/comp_fundq.csv\", nrows =1))\n",
    "\n",
    "comp_fundq = pd.read_csv('data/comp_fundq.csv',dtype=dtypes,parse_dates=parse_dates,\n",
    "                         usecols =[i for i in cols if i != 'Unnamed: 0'])\n",
    "\n",
    "print('Shape:',comp_fundq.shape)\n",
    "print('Elapsed time (minutes):',((time.time() - start)/60))"
   ]
  },
  {
   "cell_type": "markdown",
   "metadata": {},
   "source": [
    "#### READ IN CRSP_MSF"
   ]
  },
  {
   "cell_type": "code",
   "execution_count": 8,
   "metadata": {},
   "outputs": [
    {
     "name": "stdout",
     "output_type": "stream",
     "text": [
      "Shape: (84437, 9)\n",
      "Elapsed time (minutes): 0.00234830379486084\n"
     ]
    }
   ],
   "source": [
    "start = time.time()\n",
    "\n",
    "dtypes = {\n",
    "          'permno':float,  'hsiccd':float,    'date': 'str',     'prc':float,   'ret':float,\n",
    "          'shrout':float,  'cfacpr':float,    'cfacshr':float,   'retx':float\n",
    "          }\n",
    "\n",
    "parse_dates = ['date']\n",
    "\n",
    "cols = list(pd.read_csv(\"data/crsp_msf.csv\", nrows =1))\n",
    "\n",
    "crsp_msf = pd.read_csv('data/crsp_msf.csv',dtype=dtypes,parse_dates=parse_dates,\n",
    "                         usecols =[i for i in cols if i != 'Unnamed: 0'])\n",
    "\n",
    "print('Shape:',crsp_msf.shape)\n",
    "print('Elapsed time (minutes):',((time.time() - start)/60))"
   ]
  },
  {
   "cell_type": "markdown",
   "metadata": {},
   "source": [
    "####  READ IN COMPHIST"
   ]
  },
  {
   "cell_type": "code",
   "execution_count": 9,
   "metadata": {},
   "outputs": [
    {
     "name": "stdout",
     "output_type": "stream",
     "text": [
      "Shape: (260397, 6)\n",
      "Elapsed time (minutes): 0.005789665381113688\n"
     ]
    }
   ],
   "source": [
    "start = time.time()\n",
    "\n",
    "dtypes = {'gvkey':float, 'hchgdt':float, 'hchgenddt': 'str', 'hdldte':float, 'hgind':float,}\n",
    "\n",
    "parse_dates = ['hchgdt','hchgenddt','hdldte']\n",
    "\n",
    "cols = list(pd.read_csv(\"data/comphist.csv\", nrows =1))\n",
    "\n",
    "comphist = pd.read_csv('data/comphist.csv',dtype=dtypes,parse_dates=parse_dates,\n",
    "                         usecols =[i for i in cols if i != 'Unnamed: 0'])\n",
    "\n",
    "print('Shape:',comphist.shape)\n",
    "print('Elapsed time (minutes):',((time.time() - start)/60))"
   ]
  },
  {
   "cell_type": "markdown",
   "metadata": {},
   "source": [
    "#### READ IN LINK_TABLE"
   ]
  },
  {
   "cell_type": "code",
   "execution_count": 10,
   "metadata": {},
   "outputs": [
    {
     "name": "stdout",
     "output_type": "stream",
     "text": [
      "Shape: (103457, 8)\n",
      "Elapsed time (minutes): 0.002365883191426595\n"
     ]
    }
   ],
   "source": [
    "start = time.time()\n",
    "\n",
    "cols = list(pd.read_csv(\"data/link_table.csv\", nrows =1))\n",
    "\n",
    "link_table = pd.read_csv('data/link_table.csv',usecols =[i for i in cols if i != 'Unnamed: 0'])\n",
    "\n",
    "print('Shape:',link_table.shape)\n",
    "print('Elapsed time (minutes):',((time.time() - start)/60))"
   ]
  },
  {
   "cell_type": "markdown",
   "metadata": {},
   "source": [
    "# DATA"
   ]
  },
  {
   "cell_type": "code",
   "execution_count": 11,
   "metadata": {},
   "outputs": [
    {
     "data": {
      "text/html": [
       "<div>\n",
       "<style scoped>\n",
       "    .dataframe tbody tr th:only-of-type {\n",
       "        vertical-align: middle;\n",
       "    }\n",
       "\n",
       "    .dataframe tbody tr th {\n",
       "        vertical-align: top;\n",
       "    }\n",
       "\n",
       "    .dataframe thead th {\n",
       "        text-align: right;\n",
       "    }\n",
       "</style>\n",
       "<table border=\"1\" class=\"dataframe\">\n",
       "  <thead>\n",
       "    <tr style=\"text-align: right;\">\n",
       "      <th></th>\n",
       "      <th>gvkey</th>\n",
       "      <th>hchgdt</th>\n",
       "      <th>hchgenddt</th>\n",
       "      <th>hdldte</th>\n",
       "      <th>hsic</th>\n",
       "      <th>hgind</th>\n",
       "    </tr>\n",
       "  </thead>\n",
       "  <tbody>\n",
       "    <tr>\n",
       "      <th>0</th>\n",
       "      <td>1000.0</td>\n",
       "      <td>2007-04-14</td>\n",
       "      <td>NaT</td>\n",
       "      <td>1978-06-30</td>\n",
       "      <td>3089.0</td>\n",
       "      <td>NaN</td>\n",
       "    </tr>\n",
       "    <tr>\n",
       "      <th>1</th>\n",
       "      <td>1001.0</td>\n",
       "      <td>2007-04-14</td>\n",
       "      <td>2011-02-11</td>\n",
       "      <td>1986-07-31</td>\n",
       "      <td>5812.0</td>\n",
       "      <td>253010.0</td>\n",
       "    </tr>\n",
       "    <tr>\n",
       "      <th>2</th>\n",
       "      <td>1001.0</td>\n",
       "      <td>2011-02-12</td>\n",
       "      <td>2012-03-09</td>\n",
       "      <td>1986-07-31</td>\n",
       "      <td>5812.0</td>\n",
       "      <td>253010.0</td>\n",
       "    </tr>\n",
       "    <tr>\n",
       "      <th>3</th>\n",
       "      <td>1001.0</td>\n",
       "      <td>2012-03-10</td>\n",
       "      <td>NaT</td>\n",
       "      <td>1986-07-31</td>\n",
       "      <td>5812.0</td>\n",
       "      <td>253010.0</td>\n",
       "    </tr>\n",
       "    <tr>\n",
       "      <th>4</th>\n",
       "      <td>1002.0</td>\n",
       "      <td>2007-04-14</td>\n",
       "      <td>2010-01-08</td>\n",
       "      <td>1977-03-31</td>\n",
       "      <td>3825.0</td>\n",
       "      <td>NaN</td>\n",
       "    </tr>\n",
       "  </tbody>\n",
       "</table>\n",
       "</div>"
      ],
      "text/plain": [
       "    gvkey     hchgdt  hchgenddt     hdldte    hsic     hgind\n",
       "0  1000.0 2007-04-14        NaT 1978-06-30  3089.0       NaN\n",
       "1  1001.0 2007-04-14 2011-02-11 1986-07-31  5812.0  253010.0\n",
       "2  1001.0 2011-02-12 2012-03-09 1986-07-31  5812.0  253010.0\n",
       "3  1001.0 2012-03-10        NaT 1986-07-31  5812.0  253010.0\n",
       "4  1002.0 2007-04-14 2010-01-08 1977-03-31  3825.0       NaN"
      ]
     },
     "execution_count": 11,
     "metadata": {},
     "output_type": "execute_result"
    }
   ],
   "source": [
    "comphist.head()"
   ]
  },
  {
   "cell_type": "code",
   "execution_count": 12,
   "metadata": {},
   "outputs": [
    {
     "data": {
      "text/html": [
       "<div>\n",
       "<style scoped>\n",
       "    .dataframe tbody tr th:only-of-type {\n",
       "        vertical-align: middle;\n",
       "    }\n",
       "\n",
       "    .dataframe tbody tr th {\n",
       "        vertical-align: top;\n",
       "    }\n",
       "\n",
       "    .dataframe thead th {\n",
       "        text-align: right;\n",
       "    }\n",
       "</style>\n",
       "<table border=\"1\" class=\"dataframe\">\n",
       "  <thead>\n",
       "    <tr style=\"text-align: right;\">\n",
       "      <th></th>\n",
       "      <th>gvkey</th>\n",
       "      <th>iid</th>\n",
       "      <th>datadate</th>\n",
       "      <th>datacqtr</th>\n",
       "      <th>fyearq</th>\n",
       "      <th>fqtr</th>\n",
       "      <th>fyr</th>\n",
       "      <th>tic</th>\n",
       "      <th>conm</th>\n",
       "      <th>atq</th>\n",
       "      <th>ltq</th>\n",
       "      <th>niq</th>\n",
       "      <th>ceqq</th>\n",
       "      <th>cheq</th>\n",
       "    </tr>\n",
       "  </thead>\n",
       "  <tbody>\n",
       "    <tr>\n",
       "      <th>0</th>\n",
       "      <td>1410.0</td>\n",
       "      <td>01</td>\n",
       "      <td>2019-01-31</td>\n",
       "      <td>2018-10-01</td>\n",
       "      <td>2019.0</td>\n",
       "      <td>1.0</td>\n",
       "      <td>10.0</td>\n",
       "      <td>ABM</td>\n",
       "      <td>ABMINDUSTRIESINC</td>\n",
       "      <td>3686.400</td>\n",
       "      <td>2225.300</td>\n",
       "      <td>13.000</td>\n",
       "      <td>1461.100</td>\n",
       "      <td>30.600</td>\n",
       "    </tr>\n",
       "    <tr>\n",
       "      <th>1</th>\n",
       "      <td>1562.0</td>\n",
       "      <td>01</td>\n",
       "      <td>2019-01-31</td>\n",
       "      <td>2018-10-01</td>\n",
       "      <td>2018.0</td>\n",
       "      <td>3.0</td>\n",
       "      <td>4.0</td>\n",
       "      <td>AMSWA</td>\n",
       "      <td>AMERICANSOFTWARE-CLA</td>\n",
       "      <td>160.821</td>\n",
       "      <td>46.465</td>\n",
       "      <td>2.301</td>\n",
       "      <td>114.356</td>\n",
       "      <td>83.164</td>\n",
       "    </tr>\n",
       "    <tr>\n",
       "      <th>2</th>\n",
       "      <td>1618.0</td>\n",
       "      <td>01</td>\n",
       "      <td>2019-01-31</td>\n",
       "      <td>2018-10-01</td>\n",
       "      <td>2018.0</td>\n",
       "      <td>3.0</td>\n",
       "      <td>4.0</td>\n",
       "      <td>AXR</td>\n",
       "      <td>AMREPCORP</td>\n",
       "      <td>104.510</td>\n",
       "      <td>16.539</td>\n",
       "      <td>-0.032</td>\n",
       "      <td>87.971</td>\n",
       "      <td>14.233</td>\n",
       "    </tr>\n",
       "    <tr>\n",
       "      <th>3</th>\n",
       "      <td>1632.0</td>\n",
       "      <td>01</td>\n",
       "      <td>2019-01-31</td>\n",
       "      <td>2018-10-01</td>\n",
       "      <td>2019.0</td>\n",
       "      <td>1.0</td>\n",
       "      <td>10.0</td>\n",
       "      <td>ADI</td>\n",
       "      <td>ANALOGDEVICES</td>\n",
       "      <td>21828.278</td>\n",
       "      <td>10242.841</td>\n",
       "      <td>355.006</td>\n",
       "      <td>11585.437</td>\n",
       "      <td>605.864</td>\n",
       "    </tr>\n",
       "    <tr>\n",
       "      <th>4</th>\n",
       "      <td>1704.0</td>\n",
       "      <td>01</td>\n",
       "      <td>2019-01-31</td>\n",
       "      <td>2018-10-01</td>\n",
       "      <td>2019.0</td>\n",
       "      <td>1.0</td>\n",
       "      <td>10.0</td>\n",
       "      <td>AMAT</td>\n",
       "      <td>APPLIEDMATERIALSINC</td>\n",
       "      <td>18922.000</td>\n",
       "      <td>10713.000</td>\n",
       "      <td>771.000</td>\n",
       "      <td>8209.000</td>\n",
       "      <td>3712.000</td>\n",
       "    </tr>\n",
       "  </tbody>\n",
       "</table>\n",
       "</div>"
      ],
      "text/plain": [
       "    gvkey iid   datadate   datacqtr  fyearq fqtr   fyr    tic  \\\n",
       "0  1410.0  01 2019-01-31 2018-10-01  2019.0  1.0  10.0    ABM   \n",
       "1  1562.0  01 2019-01-31 2018-10-01  2018.0  3.0   4.0  AMSWA   \n",
       "2  1618.0  01 2019-01-31 2018-10-01  2018.0  3.0   4.0    AXR   \n",
       "3  1632.0  01 2019-01-31 2018-10-01  2019.0  1.0  10.0    ADI   \n",
       "4  1704.0  01 2019-01-31 2018-10-01  2019.0  1.0  10.0   AMAT   \n",
       "\n",
       "                   conm        atq        ltq      niq       ceqq      cheq  \n",
       "0      ABMINDUSTRIESINC   3686.400   2225.300   13.000   1461.100    30.600  \n",
       "1  AMERICANSOFTWARE-CLA    160.821     46.465    2.301    114.356    83.164  \n",
       "2             AMREPCORP    104.510     16.539   -0.032     87.971    14.233  \n",
       "3         ANALOGDEVICES  21828.278  10242.841  355.006  11585.437   605.864  \n",
       "4   APPLIEDMATERIALSINC  18922.000  10713.000  771.000   8209.000  3712.000  "
      ]
     },
     "execution_count": 12,
     "metadata": {},
     "output_type": "execute_result"
    }
   ],
   "source": [
    "comp_fundq.head()"
   ]
  },
  {
   "cell_type": "code",
   "execution_count": 13,
   "metadata": {},
   "outputs": [
    {
     "data": {
      "text/html": [
       "<div>\n",
       "<style scoped>\n",
       "    .dataframe tbody tr th:only-of-type {\n",
       "        vertical-align: middle;\n",
       "    }\n",
       "\n",
       "    .dataframe tbody tr th {\n",
       "        vertical-align: top;\n",
       "    }\n",
       "\n",
       "    .dataframe thead th {\n",
       "        text-align: right;\n",
       "    }\n",
       "</style>\n",
       "<table border=\"1\" class=\"dataframe\">\n",
       "  <thead>\n",
       "    <tr style=\"text-align: right;\">\n",
       "      <th></th>\n",
       "      <th>permno</th>\n",
       "      <th>hsiccd</th>\n",
       "      <th>date</th>\n",
       "      <th>prc</th>\n",
       "      <th>ret</th>\n",
       "      <th>shrout</th>\n",
       "      <th>cfacpr</th>\n",
       "      <th>cfacshr</th>\n",
       "      <th>retx</th>\n",
       "    </tr>\n",
       "  </thead>\n",
       "  <tbody>\n",
       "    <tr>\n",
       "      <th>0</th>\n",
       "      <td>10026.0</td>\n",
       "      <td>2052.0</td>\n",
       "      <td>2019-12-02</td>\n",
       "      <td>184.250000</td>\n",
       "      <td>-0.004054</td>\n",
       "      <td>18899.0</td>\n",
       "      <td>1.0</td>\n",
       "      <td>1.0</td>\n",
       "      <td>-0.004054</td>\n",
       "    </tr>\n",
       "    <tr>\n",
       "      <th>1</th>\n",
       "      <td>10028.0</td>\n",
       "      <td>5094.0</td>\n",
       "      <td>2019-12-02</td>\n",
       "      <td>1.380000</td>\n",
       "      <td>-0.014286</td>\n",
       "      <td>26924.0</td>\n",
       "      <td>1.0</td>\n",
       "      <td>1.0</td>\n",
       "      <td>-0.014286</td>\n",
       "    </tr>\n",
       "    <tr>\n",
       "      <th>2</th>\n",
       "      <td>10032.0</td>\n",
       "      <td>3670.0</td>\n",
       "      <td>2019-12-02</td>\n",
       "      <td>74.669998</td>\n",
       "      <td>-0.016206</td>\n",
       "      <td>29179.0</td>\n",
       "      <td>1.0</td>\n",
       "      <td>1.0</td>\n",
       "      <td>-0.016206</td>\n",
       "    </tr>\n",
       "    <tr>\n",
       "      <th>3</th>\n",
       "      <td>10044.0</td>\n",
       "      <td>2060.0</td>\n",
       "      <td>2019-12-02</td>\n",
       "      <td>8.800000</td>\n",
       "      <td>0.005714</td>\n",
       "      <td>5995.0</td>\n",
       "      <td>1.0</td>\n",
       "      <td>1.0</td>\n",
       "      <td>0.005714</td>\n",
       "    </tr>\n",
       "    <tr>\n",
       "      <th>4</th>\n",
       "      <td>10051.0</td>\n",
       "      <td>8093.0</td>\n",
       "      <td>2019-12-02</td>\n",
       "      <td>26.520000</td>\n",
       "      <td>0.012214</td>\n",
       "      <td>37338.0</td>\n",
       "      <td>1.0</td>\n",
       "      <td>1.0</td>\n",
       "      <td>0.012214</td>\n",
       "    </tr>\n",
       "  </tbody>\n",
       "</table>\n",
       "</div>"
      ],
      "text/plain": [
       "    permno  hsiccd       date         prc       ret   shrout  cfacpr  cfacshr  \\\n",
       "0  10026.0  2052.0 2019-12-02  184.250000 -0.004054  18899.0     1.0      1.0   \n",
       "1  10028.0  5094.0 2019-12-02    1.380000 -0.014286  26924.0     1.0      1.0   \n",
       "2  10032.0  3670.0 2019-12-02   74.669998 -0.016206  29179.0     1.0      1.0   \n",
       "3  10044.0  2060.0 2019-12-02    8.800000  0.005714   5995.0     1.0      1.0   \n",
       "4  10051.0  8093.0 2019-12-02   26.520000  0.012214  37338.0     1.0      1.0   \n",
       "\n",
       "       retx  \n",
       "0 -0.004054  \n",
       "1 -0.014286  \n",
       "2 -0.016206  \n",
       "3  0.005714  \n",
       "4  0.012214  "
      ]
     },
     "execution_count": 13,
     "metadata": {},
     "output_type": "execute_result"
    }
   ],
   "source": [
    "crsp_msf.head()"
   ]
  },
  {
   "cell_type": "markdown",
   "metadata": {},
   "source": [
    "# MERGE DATA"
   ]
  },
  {
   "cell_type": "markdown",
   "metadata": {},
   "source": [
    "#### MERGE + EXPORT DATA"
   ]
  },
  {
   "cell_type": "code",
   "execution_count": 14,
   "metadata": {},
   "outputs": [
    {
     "name": "stdout",
     "output_type": "stream",
     "text": [
      "Shape: (7760323, 35)\n",
      "Elapsed time (minutes): 0.0694479505221049\n"
     ]
    }
   ],
   "source": [
    "start = time.time()\n",
    "\n",
    "df1 = pd.merge(comp_fundq, link_table, how='inner', on = \"gvkey\")\n",
    "df2 = pd.merge(df1, comphist, how='inner', on = \"gvkey\")\n",
    "df3 = pd.merge(df2, crsp_msf, how='inner', left_on = \"lpermno\", right_on='permno')\n",
    "\n",
    "print('Shape:',df3.shape)\n",
    "print('Elapsed time (minutes):',(time.time() - start)/60)"
   ]
  },
  {
   "cell_type": "code",
   "execution_count": 15,
   "metadata": {},
   "outputs": [
    {
     "ename": "KeyboardInterrupt",
     "evalue": "",
     "output_type": "error",
     "traceback": [
      "\u001b[0;31m---------------------------------------------------------------------------\u001b[0m",
      "\u001b[0;31mKeyboardInterrupt\u001b[0m                         Traceback (most recent call last)",
      "\u001b[0;32m<ipython-input-15-99700ff8eea5>\u001b[0m in \u001b[0;36m<module>\u001b[0;34m\u001b[0m\n\u001b[1;32m      1\u001b[0m \u001b[0mstart\u001b[0m \u001b[0;34m=\u001b[0m \u001b[0mtime\u001b[0m\u001b[0;34m.\u001b[0m\u001b[0mtime\u001b[0m\u001b[0;34m(\u001b[0m\u001b[0;34m)\u001b[0m\u001b[0;34m\u001b[0m\u001b[0;34m\u001b[0m\u001b[0m\n\u001b[1;32m      2\u001b[0m \u001b[0;34m\u001b[0m\u001b[0m\n\u001b[0;32m----> 3\u001b[0;31m \u001b[0mdf3\u001b[0m\u001b[0;34m.\u001b[0m\u001b[0mto_csv\u001b[0m\u001b[0;34m(\u001b[0m\u001b[0;34m'data/merged_data.csv'\u001b[0m\u001b[0;34m)\u001b[0m\u001b[0;34m\u001b[0m\u001b[0;34m\u001b[0m\u001b[0m\n\u001b[0m\u001b[1;32m      4\u001b[0m \u001b[0;34m\u001b[0m\u001b[0m\n\u001b[1;32m      5\u001b[0m \u001b[0mprint\u001b[0m\u001b[0;34m(\u001b[0m\u001b[0;34m'Elapsed time (minutes):'\u001b[0m\u001b[0;34m,\u001b[0m\u001b[0;34m(\u001b[0m\u001b[0mtime\u001b[0m\u001b[0;34m.\u001b[0m\u001b[0mtime\u001b[0m\u001b[0;34m(\u001b[0m\u001b[0;34m)\u001b[0m \u001b[0;34m-\u001b[0m \u001b[0mstart\u001b[0m\u001b[0;34m)\u001b[0m\u001b[0;34m/\u001b[0m\u001b[0;36m60\u001b[0m\u001b[0;34m)\u001b[0m\u001b[0;34m\u001b[0m\u001b[0;34m\u001b[0m\u001b[0m\n",
      "\u001b[0;32m/Applications/anaconda3/lib/python3.7/site-packages/pandas/core/generic.py\u001b[0m in \u001b[0;36mto_csv\u001b[0;34m(self, path_or_buf, sep, na_rep, float_format, columns, header, index, index_label, mode, encoding, compression, quoting, quotechar, line_terminator, chunksize, date_format, doublequote, escapechar, decimal)\u001b[0m\n\u001b[1;32m   3202\u001b[0m             \u001b[0mdecimal\u001b[0m\u001b[0;34m=\u001b[0m\u001b[0mdecimal\u001b[0m\u001b[0;34m,\u001b[0m\u001b[0;34m\u001b[0m\u001b[0;34m\u001b[0m\u001b[0m\n\u001b[1;32m   3203\u001b[0m         )\n\u001b[0;32m-> 3204\u001b[0;31m         \u001b[0mformatter\u001b[0m\u001b[0;34m.\u001b[0m\u001b[0msave\u001b[0m\u001b[0;34m(\u001b[0m\u001b[0;34m)\u001b[0m\u001b[0;34m\u001b[0m\u001b[0;34m\u001b[0m\u001b[0m\n\u001b[0m\u001b[1;32m   3205\u001b[0m \u001b[0;34m\u001b[0m\u001b[0m\n\u001b[1;32m   3206\u001b[0m         \u001b[0;32mif\u001b[0m \u001b[0mpath_or_buf\u001b[0m \u001b[0;32mis\u001b[0m \u001b[0;32mNone\u001b[0m\u001b[0;34m:\u001b[0m\u001b[0;34m\u001b[0m\u001b[0;34m\u001b[0m\u001b[0m\n",
      "\u001b[0;32m/Applications/anaconda3/lib/python3.7/site-packages/pandas/io/formats/csvs.py\u001b[0m in \u001b[0;36msave\u001b[0;34m(self)\u001b[0m\n\u001b[1;32m    202\u001b[0m             )\n\u001b[1;32m    203\u001b[0m \u001b[0;34m\u001b[0m\u001b[0m\n\u001b[0;32m--> 204\u001b[0;31m             \u001b[0mself\u001b[0m\u001b[0;34m.\u001b[0m\u001b[0m_save\u001b[0m\u001b[0;34m(\u001b[0m\u001b[0;34m)\u001b[0m\u001b[0;34m\u001b[0m\u001b[0;34m\u001b[0m\u001b[0m\n\u001b[0m\u001b[1;32m    205\u001b[0m \u001b[0;34m\u001b[0m\u001b[0m\n\u001b[1;32m    206\u001b[0m         \u001b[0;32mfinally\u001b[0m\u001b[0;34m:\u001b[0m\u001b[0;34m\u001b[0m\u001b[0;34m\u001b[0m\u001b[0m\n",
      "\u001b[0;32m/Applications/anaconda3/lib/python3.7/site-packages/pandas/io/formats/csvs.py\u001b[0m in \u001b[0;36m_save\u001b[0;34m(self)\u001b[0m\n\u001b[1;32m    321\u001b[0m                 \u001b[0;32mbreak\u001b[0m\u001b[0;34m\u001b[0m\u001b[0;34m\u001b[0m\u001b[0m\n\u001b[1;32m    322\u001b[0m \u001b[0;34m\u001b[0m\u001b[0m\n\u001b[0;32m--> 323\u001b[0;31m             \u001b[0mself\u001b[0m\u001b[0;34m.\u001b[0m\u001b[0m_save_chunk\u001b[0m\u001b[0;34m(\u001b[0m\u001b[0mstart_i\u001b[0m\u001b[0;34m,\u001b[0m \u001b[0mend_i\u001b[0m\u001b[0;34m)\u001b[0m\u001b[0;34m\u001b[0m\u001b[0;34m\u001b[0m\u001b[0m\n\u001b[0m\u001b[1;32m    324\u001b[0m \u001b[0;34m\u001b[0m\u001b[0m\n\u001b[1;32m    325\u001b[0m     \u001b[0;32mdef\u001b[0m \u001b[0m_save_chunk\u001b[0m\u001b[0;34m(\u001b[0m\u001b[0mself\u001b[0m\u001b[0;34m,\u001b[0m \u001b[0mstart_i\u001b[0m\u001b[0;34m:\u001b[0m \u001b[0mint\u001b[0m\u001b[0;34m,\u001b[0m \u001b[0mend_i\u001b[0m\u001b[0;34m:\u001b[0m \u001b[0mint\u001b[0m\u001b[0;34m)\u001b[0m \u001b[0;34m->\u001b[0m \u001b[0;32mNone\u001b[0m\u001b[0;34m:\u001b[0m\u001b[0;34m\u001b[0m\u001b[0;34m\u001b[0m\u001b[0m\n",
      "\u001b[0;32m/Applications/anaconda3/lib/python3.7/site-packages/pandas/io/formats/csvs.py\u001b[0m in \u001b[0;36m_save_chunk\u001b[0;34m(self, start_i, end_i)\u001b[0m\n\u001b[1;32m    336\u001b[0m                 \u001b[0mdecimal\u001b[0m\u001b[0;34m=\u001b[0m\u001b[0mself\u001b[0m\u001b[0;34m.\u001b[0m\u001b[0mdecimal\u001b[0m\u001b[0;34m,\u001b[0m\u001b[0;34m\u001b[0m\u001b[0;34m\u001b[0m\u001b[0m\n\u001b[1;32m    337\u001b[0m                 \u001b[0mdate_format\u001b[0m\u001b[0;34m=\u001b[0m\u001b[0mself\u001b[0m\u001b[0;34m.\u001b[0m\u001b[0mdate_format\u001b[0m\u001b[0;34m,\u001b[0m\u001b[0;34m\u001b[0m\u001b[0;34m\u001b[0m\u001b[0m\n\u001b[0;32m--> 338\u001b[0;31m                 \u001b[0mquoting\u001b[0m\u001b[0;34m=\u001b[0m\u001b[0mself\u001b[0m\u001b[0;34m.\u001b[0m\u001b[0mquoting\u001b[0m\u001b[0;34m,\u001b[0m\u001b[0;34m\u001b[0m\u001b[0;34m\u001b[0m\u001b[0m\n\u001b[0m\u001b[1;32m    339\u001b[0m             )\n\u001b[1;32m    340\u001b[0m \u001b[0;34m\u001b[0m\u001b[0m\n",
      "\u001b[0;32m/Applications/anaconda3/lib/python3.7/site-packages/pandas/core/internals/blocks.py\u001b[0m in \u001b[0;36mto_native_types\u001b[0;34m(self, slicer, na_rep, date_format, quoting, **kwargs)\u001b[0m\n\u001b[1;32m   2255\u001b[0m             \u001b[0mtz\u001b[0m\u001b[0;34m=\u001b[0m\u001b[0mgetattr\u001b[0m\u001b[0;34m(\u001b[0m\u001b[0mself\u001b[0m\u001b[0;34m.\u001b[0m\u001b[0mvalues\u001b[0m\u001b[0;34m,\u001b[0m \u001b[0;34m\"tz\"\u001b[0m\u001b[0;34m,\u001b[0m \u001b[0;32mNone\u001b[0m\u001b[0;34m)\u001b[0m\u001b[0;34m,\u001b[0m\u001b[0;34m\u001b[0m\u001b[0;34m\u001b[0m\u001b[0m\n\u001b[1;32m   2256\u001b[0m             \u001b[0mformat\u001b[0m\u001b[0;34m=\u001b[0m\u001b[0mfmt\u001b[0m\u001b[0;34m,\u001b[0m\u001b[0;34m\u001b[0m\u001b[0;34m\u001b[0m\u001b[0m\n\u001b[0;32m-> 2257\u001b[0;31m             \u001b[0mna_rep\u001b[0m\u001b[0;34m=\u001b[0m\u001b[0mna_rep\u001b[0m\u001b[0;34m,\u001b[0m\u001b[0;34m\u001b[0m\u001b[0;34m\u001b[0m\u001b[0m\n\u001b[0m\u001b[1;32m   2258\u001b[0m         ).reshape(i8values.shape)\n\u001b[1;32m   2259\u001b[0m         \u001b[0;32mreturn\u001b[0m \u001b[0mnp\u001b[0m\u001b[0;34m.\u001b[0m\u001b[0matleast_2d\u001b[0m\u001b[0;34m(\u001b[0m\u001b[0mresult\u001b[0m\u001b[0;34m)\u001b[0m\u001b[0;34m\u001b[0m\u001b[0;34m\u001b[0m\u001b[0m\n",
      "\u001b[0;32mpandas/_libs/tslib.pyx\u001b[0m in \u001b[0;36mpandas._libs.tslib.format_array_from_datetime\u001b[0;34m()\u001b[0m\n",
      "\u001b[0;32mpandas/_libs/tslibs/timestamps.pyx\u001b[0m in \u001b[0;36mpandas._libs.tslibs.timestamps.Timestamp.__new__\u001b[0;34m()\u001b[0m\n",
      "\u001b[0;32mpandas/_libs/tslibs/conversion.pyx\u001b[0m in \u001b[0;36mpandas._libs.tslibs.conversion.convert_to_tsobject\u001b[0;34m()\u001b[0m\n",
      "\u001b[0;31mKeyboardInterrupt\u001b[0m: "
     ]
    }
   ],
   "source": [
    "# caution takes a while\n",
    "start = time.time()\n",
    "\n",
    "df3.to_csv('data/merged_data.csv')\n",
    "\n",
    "print('Elapsed time (minutes):',(time.time() - start)/60)"
   ]
  },
  {
   "cell_type": "markdown",
   "metadata": {},
   "source": [
    "#### READ IN MERGED_DATA"
   ]
  },
  {
   "cell_type": "code",
   "execution_count": null,
   "metadata": {},
   "outputs": [],
   "source": [
    "start = time.time()\n",
    "\n",
    "cols = list(pd.read_csv(\"data/merged_data.csv\", nrows =1))\n",
    "merged_data = pd.read_csv('data/merged_data.csv',usecols =[i for i in cols if i != 'Unnamed: 0'])\n",
    "merged_data.dtypes\n",
    "\n",
    "print('Elapsed time (minutes):',(time.time() - start)/60)"
   ]
  }
 ],
 "metadata": {
  "kernelspec": {
   "display_name": "Python 3",
   "language": "python",
   "name": "python3"
  },
  "language_info": {
   "codemirror_mode": {
    "name": "ipython",
    "version": 3
   },
   "file_extension": ".py",
   "mimetype": "text/x-python",
   "name": "python",
   "nbconvert_exporter": "python",
   "pygments_lexer": "ipython3",
   "version": "3.7.6"
  }
 },
 "nbformat": 4,
 "nbformat_minor": 4
}
